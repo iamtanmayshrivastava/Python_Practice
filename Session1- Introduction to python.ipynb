{
 "cells": [
  {
   "cell_type": "code",
   "execution_count": 1,
   "id": "0bfb5ca9-d41a-4d66-9d4c-36cbdf253d3e",
   "metadata": {},
   "outputs": [],
   "source": [
    "a = 10 "
   ]
  },
  {
   "cell_type": "code",
   "execution_count": 2,
   "id": "27852e04-535e-43d4-9bc2-8611f60e66c0",
   "metadata": {},
   "outputs": [
    {
     "name": "stdout",
     "output_type": "stream",
     "text": [
      "10\n"
     ]
    }
   ],
   "source": [
    "print(a)"
   ]
  },
  {
   "cell_type": "code",
   "execution_count": null,
   "id": "d41f4e22-d501-4754-89a1-0f337ea29e63",
   "metadata": {},
   "outputs": [],
   "source": [
    "prit"
   ]
  },
  {
   "cell_type": "code",
   "execution_count": 4,
   "id": "6edf78b4-7ecb-47c1-bbc8-5fc7db453350",
   "metadata": {},
   "outputs": [
    {
     "name": "stdout",
     "output_type": "stream",
     "text": [
      "100\n"
     ]
    }
   ],
   "source": [
    "#numeric variable\n",
    "numeric = 100\n",
    "print(numeric)"
   ]
  },
  {
   "cell_type": "code",
   "execution_count": 5,
   "id": "cfde070b-f82e-4a80-a7fc-cb309aca8954",
   "metadata": {},
   "outputs": [
    {
     "name": "stdout",
     "output_type": "stream",
     "text": [
      "Tanmay\n"
     ]
    }
   ],
   "source": [
    "#textual variable \n",
    "text = \"Tanmay\"\n",
    "print(text)"
   ]
  },
  {
   "cell_type": "code",
   "execution_count": 6,
   "id": "7d583114-68af-48d7-8c51-dd64205dc081",
   "metadata": {},
   "outputs": [
    {
     "name": "stdout",
     "output_type": "stream",
     "text": [
      "38.5\n"
     ]
    }
   ],
   "source": [
    "#float\n",
    "flo = 38.5\n",
    "print(flo)"
   ]
  },
  {
   "cell_type": "code",
   "execution_count": 7,
   "id": "aecfc011-7399-4771-905b-44e15e3044e5",
   "metadata": {},
   "outputs": [
    {
     "name": "stdout",
     "output_type": "stream",
     "text": [
      "True\n"
     ]
    }
   ],
   "source": [
    "#boolean\n",
    "boolean = True\n",
    "print(boolean)"
   ]
  },
  {
   "cell_type": "code",
   "execution_count": 8,
   "id": "b4a3cc15-b89b-420d-98de-e5303c6bce39",
   "metadata": {},
   "outputs": [
    {
     "data": {
      "text/plain": [
       "bool"
      ]
     },
     "execution_count": 8,
     "metadata": {},
     "output_type": "execute_result"
    }
   ],
   "source": [
    "type(boolean)"
   ]
  },
  {
   "cell_type": "code",
   "execution_count": 5,
   "id": "bd8d2804-a4f0-490e-a50a-0581b7c173ba",
   "metadata": {},
   "outputs": [
    {
     "name": "stdout",
     "output_type": "stream",
     "text": [
      "5\n",
      "-1\n",
      "6\n",
      "2.3333333333333335\n",
      "2\n",
      "1\n"
     ]
    }
   ],
   "source": [
    "#operators (Arithmetic)\n",
    "print(2+3) #addition\n",
    "print(2-3) #susbtraction\n",
    "print(2*3) # multiplication\n",
    "print(7/3) #division\n",
    "print(7//3) # it will quotient ( it wont give values after decimal \n",
    "print(7%3) # it will give remainder\n"
   ]
  },
  {
   "cell_type": "code",
   "execution_count": 12,
   "id": "1a3312c4-1bfc-4002-b923-0a560a75b0a8",
   "metadata": {},
   "outputs": [
    {
     "name": "stdin",
     "output_type": "stream",
     "text": [
      "Enter first number 76\n",
      "Enter second number 90\n"
     ]
    }
   ],
   "source": [
    "# Conditional opertors\n",
    "n1 = int(input(\"Enter first number\")) \n",
    "n2 = int(input(\"Enter second number\")) "
   ]
  },
  {
   "cell_type": "code",
   "execution_count": 13,
   "id": "07111fed-12bc-4d99-8e59-6e707b37f338",
   "metadata": {},
   "outputs": [
    {
     "name": "stdout",
     "output_type": "stream",
     "text": [
      "76\n",
      "90\n"
     ]
    }
   ],
   "source": [
    "print(n1)\n",
    "print(n2)"
   ]
  },
  {
   "cell_type": "code",
   "execution_count": 14,
   "id": "47fc5d43-b9b9-43ac-8327-490dfd115166",
   "metadata": {},
   "outputs": [
    {
     "data": {
      "text/plain": [
       "False"
      ]
     },
     "execution_count": 14,
     "metadata": {},
     "output_type": "execute_result"
    }
   ],
   "source": [
    "n1>n2"
   ]
  },
  {
   "cell_type": "code",
   "execution_count": 15,
   "id": "3f6ea400-3977-4df3-90e3-42e1acb94ac8",
   "metadata": {},
   "outputs": [],
   "source": [
    "# logical operators (AND, OR, NOT)\n",
    "# AND - it will say true then only when all its part are true\n",
    "# OR - it will say true when any part of its is true\n"
   ]
  },
  {
   "cell_type": "code",
   "execution_count": null,
   "id": "1e1f957b-61a0-4036-ae69-4e18f617bd40",
   "metadata": {},
   "outputs": [],
   "source": []
  }
 ],
 "metadata": {
  "kernelspec": {
   "display_name": "Python 3 (ipykernel)",
   "language": "python",
   "name": "python3"
  },
  "language_info": {
   "codemirror_mode": {
    "name": "ipython",
    "version": 3
   },
   "file_extension": ".py",
   "mimetype": "text/x-python",
   "name": "python",
   "nbconvert_exporter": "python",
   "pygments_lexer": "ipython3",
   "version": "3.11.7"
  }
 },
 "nbformat": 4,
 "nbformat_minor": 5
}
